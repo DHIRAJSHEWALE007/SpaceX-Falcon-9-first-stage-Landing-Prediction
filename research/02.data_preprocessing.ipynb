{
 "cells": [
  {
   "cell_type": "code",
   "execution_count": 1,
   "id": "1d7e0de1",
   "metadata": {},
   "outputs": [
    {
     "data": {
      "text/plain": [
       "'d:\\\\DHIRAJ\\\\Data_Science\\\\Jupyter_Workspace\\\\Projects\\\\SpaceX-Falcon-9-first-stage-Landing-Prediction'"
      ]
     },
     "execution_count": 1,
     "metadata": {},
     "output_type": "execute_result"
    }
   ],
   "source": [
    "import os\n",
    "\n",
    "os.chdir(\"../\")\n",
    "%pwd"
   ]
  },
  {
   "cell_type": "code",
   "execution_count": 2,
   "id": "0b18f183",
   "metadata": {},
   "outputs": [],
   "source": [
    "from dataclasses import dataclass\n",
    "from pathlib import Path\n",
    "\n",
    "@dataclass(frozen=True)\n",
    "class DataPreprocessingConfig:\n",
    "    root_dir: Path\n",
    "    data_path: Path\n",
    "    encoder_ckpt: Path\n",
    "    processed_data_path: Path"
   ]
  },
  {
   "cell_type": "code",
   "execution_count": 3,
   "id": "4e2f00ab",
   "metadata": {},
   "outputs": [],
   "source": [
    "from SpaceXF9LandingPred.constants import *\n",
    "from SpaceXF9LandingPred.utils.common import read_yaml, create_directories"
   ]
  },
  {
   "cell_type": "code",
   "execution_count": 4,
   "id": "746c16b9",
   "metadata": {},
   "outputs": [],
   "source": [
    "class ConfigurationManager:\n",
    "    def __init__(self, \n",
    "                config_filepath=CONFIG_FILE_PATH, \n",
    "                params_filepath=PARAMS_FILE_PATH):\n",
    "        \n",
    "        self.config_file=read_yaml(config_filepath)\n",
    "        self.params_file=read_yaml(params_filepath)\n",
    "\n",
    "        create_directories([self.config_file.artifacts_root])\n",
    "    \n",
    "    def get_data_preprocessing_config(self) -> DataPreprocessingConfig:\n",
    "        \n",
    "        config=self.config_file.data_preprocessing\n",
    "        create_directories([config.root_dir])\n",
    "\n",
    "        data_preprocessing_config=DataPreprocessingConfig(\n",
    "            root_dir=config.root_dir,\n",
    "            data_path=config.data_path,\n",
    "            encoder_ckpt=config.encoder_ckpt,\n",
    "            processed_data_path=config.processed_data_path\n",
    "        )\n",
    "\n",
    "        return data_preprocessing_config"
   ]
  },
  {
   "cell_type": "code",
   "execution_count": null,
   "id": "9a89580e",
   "metadata": {},
   "outputs": [],
   "source": [
    "import pandas as pd\n",
    "import numpy as np\n",
    "from sklearn.preprocessing import OneHotEncoder\n",
    "\n",
    "from SpaceXF9LandingPred.logging import logger\n",
    "\n",
    "from SpaceXF9LandingPred.entity import DataPreprocessingConfig\n",
    "\n",
    "\n",
    "class DataPreprocessing:\n",
    "    def __init__(self, config:DataPreprocessingConfig):\n",
    "        self.config=config\n",
    "\n",
    "    def process_data(self):\n",
    "\n",
    "        data = pd.read_csv(self.config.data_path)\n",
    "\n",
    "        data['PayloadMass']=data['PayloadMass'].replace(np.nan, data['PayloadMass'].mean())\n",
    "        data[\"Orbit\"]=data[\"Orbit\"].replace(np.nan, data[\"Orbit\"].mode()[0])\n",
    "\n",
    "        logger.info(\"Fixed Null/Missing Values\")\n",
    "\n",
    "        landing_outcomes = data['Outcome'].value_counts()\n",
    "        bad_outcomes=set(landing_outcomes.keys()[[1,3,5,6,7]])\n",
    "\n",
    "        outcome_list = []\n",
    "        for outcome in data['Outcome']:\n",
    "            if outcome in bad_outcomes:\n",
    "                outcome_list.append(0)\n",
    "            else:\n",
    "                outcome_list.append(1)\n",
    "\n",
    "        data['Class']=outcome_list\n",
    "\n",
    "        features = data[['FlightNumber', 'PayloadMass', 'Orbit', 'LaunchSite', 'Flights', \n",
    "                 'GridFins', 'Reused', 'Legs', 'LandingPad', 'Block', 'ReusedCount', \n",
    "                 'Serial', 'Class']]\n",
    "\n",
    "        categorical_cols = ['Orbit', 'LaunchSite', 'LandingPad', 'Serial', \n",
    "                            'GridFins', 'Reused', 'Legs']\n",
    "        numerical_cols = ['FlightNumber', 'PayloadMass', 'Flights', 'Block', 'ReusedCount', 'Class']\n",
    "\n",
    "        encoder = OneHotEncoder(sparse_output=False, handle_unknown='ignore', dtype=float)\n",
    "\n",
    "        encoded_cats = encoder.fit_transform(features[categorical_cols])\n",
    "\n",
    "        encoded_cat_cols = encoder.get_feature_names_out(categorical_cols)\n",
    "        \n",
    "        encoded_df = pd.DataFrame(encoded_cats, columns=encoded_cat_cols, index=features.index)\n",
    "\n",
    "        features_encoded = pd.concat([features[numerical_cols], encoded_df], axis=1)\n",
    "\n",
    "        features_encoded.astype(float)\n",
    "\n",
    "        logger.info(\"Features are Encoded Successfully\")\n",
    "\n",
    "        features_encoded.to_csv(self.config.processed_data_path, index=False)\n",
    "\n",
    "        logger.info(\"Processed Data file has been created in artifacts\")"
   ]
  },
  {
   "cell_type": "code",
   "execution_count": 15,
   "id": "d27df20a",
   "metadata": {},
   "outputs": [
    {
     "name": "stdout",
     "output_type": "stream",
     "text": [
      "[2025-08-11 13:55:38,365: INFO: common: yaml file : config\\config.yaml loaded successfully]\n",
      "[2025-08-11 13:55:38,368: INFO: common: yaml file : params.yaml loaded successfully]\n",
      "[2025-08-11 13:55:38,369: INFO: common: created directory at : artifacts]\n",
      "[2025-08-11 13:55:38,371: INFO: common: created directory at : artifacts/data_preprocessing]\n",
      "[2025-08-11 13:55:38,377: INFO: 3604251675: Fixed Null/Missing Values]\n",
      "[2025-08-11 13:55:38,389: INFO: 3604251675: Features are Encoded Successfully]\n",
      "[2025-08-11 13:55:38,397: INFO: 3604251675: Processed Data file has been created in artifacts]\n"
     ]
    }
   ],
   "source": [
    "try:\n",
    "    config=ConfigurationManager()\n",
    "    data_preprocessing_config=config.get_data_preprocessing_config()\n",
    "    data_preprocessing=DataPreprocessing(config=data_preprocessing_config)\n",
    "    data_preprocessing.process_data()\n",
    "except Exception as e:\n",
    "    raise e"
   ]
  },
  {
   "cell_type": "code",
   "execution_count": null,
   "id": "f1b11454",
   "metadata": {},
   "outputs": [],
   "source": []
  }
 ],
 "metadata": {
  "kernelspec": {
   "display_name": "Python 3",
   "language": "python",
   "name": "python3"
  },
  "language_info": {
   "codemirror_mode": {
    "name": "ipython",
    "version": 3
   },
   "file_extension": ".py",
   "mimetype": "text/x-python",
   "name": "python",
   "nbconvert_exporter": "python",
   "pygments_lexer": "ipython3",
   "version": "3.12.11"
  }
 },
 "nbformat": 4,
 "nbformat_minor": 5
}
