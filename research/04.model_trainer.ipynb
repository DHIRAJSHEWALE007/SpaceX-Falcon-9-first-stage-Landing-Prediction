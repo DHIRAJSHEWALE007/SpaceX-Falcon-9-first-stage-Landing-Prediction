{
 "cells": [
  {
   "cell_type": "code",
   "execution_count": 1,
   "id": "a780680c",
   "metadata": {},
   "outputs": [
    {
     "data": {
      "text/plain": [
       "'d:\\\\DHIRAJ\\\\Data_Science\\\\Jupyter_Workspace\\\\Projects\\\\SpaceX-Falcon-9-first-stage-Landing-Prediction'"
      ]
     },
     "execution_count": 1,
     "metadata": {},
     "output_type": "execute_result"
    }
   ],
   "source": [
    "import os\n",
    "\n",
    "os.chdir(\"../\")\n",
    "%pwd"
   ]
  },
  {
   "cell_type": "code",
   "execution_count": null,
   "id": "d36f043f",
   "metadata": {},
   "outputs": [],
   "source": [
    "from dataclasses import dataclass\n",
    "from pathlib import Path\n",
    "\n",
    "@dataclass(frozen=True)\n",
    "class ModelTrainerConfig:\n",
    "    root_dir: Path\n",
    "    data_path: Path\n",
    "    scaler_ckpt: Path\n",
    "    model_ckpt: Path"
   ]
  },
  {
   "cell_type": "code",
   "execution_count": 3,
   "id": "d692001b",
   "metadata": {},
   "outputs": [],
   "source": [
    "from SpaceXF9LandingPred.constants import *\n",
    "from SpaceXF9LandingPred.utils.common import read_yaml, create_directories"
   ]
  },
  {
   "cell_type": "code",
   "execution_count": null,
   "id": "2e35cd70",
   "metadata": {},
   "outputs": [],
   "source": [
    "class ConfigurationManager:\n",
    "    def __init__(self, \n",
    "                config_filepath=CONFIG_FILE_PATH, \n",
    "                params_filepath=PARAMS_FILE_PATH):\n",
    "        \n",
    "        self.config_file=read_yaml(config_filepath)\n",
    "        self.params_file=read_yaml(params_filepath)\n",
    "\n",
    "        create_directories([self.config_file.artifacts_root])\n",
    "    \n",
    "    def get_model_trainer_config(self) -> ModelTrainerConfig:\n",
    "        \n",
    "        config=self.config_file.model_trainer\n",
    "        params=self.params_file.training_params\n",
    "        create_directories([config.root_dir])\n",
    "\n",
    "        model_trainer_config=ModelTrainerConfig(\n",
    "            root_dir=config.root_dir,\n",
    "            data_path=config.data_path,\n",
    "            scaler_ckpt=config.scaler_ckpt,\n",
    "            model_ckpt=config.model_ckpt\n",
    "        )\n",
    "\n",
    "        return model_trainer_config, params\n",
    "    "
   ]
  },
  {
   "cell_type": "code",
   "execution_count": null,
   "id": "a34085b3",
   "metadata": {},
   "outputs": [],
   "source": [
    "import pandas as pd\n",
    "import numpy as np\n",
    "\n",
    "from SpaceXF9LandingPred.logging import logger\n",
    "\n",
    "from sklearn.preprocessing import StandardScaler\n",
    "from sklearn.model_selection import train_test_split\n",
    "from sklearn.svm import SVC\n",
    "import joblib\n",
    "\n",
    "class ModelTrainer:\n",
    "    def __init__(self, config:ModelTrainerConfig, params):\n",
    "        self.config=config\n",
    "        self.params=params\n",
    "        self.scaler=StandardScaler()\n",
    "\n",
    "    def train(self):\n",
    "        data = pd.read_csv(self.config.data_path)\n",
    "        X = data.drop(columns=['Class'], axis=1)\n",
    "        Y = data['Class'].to_numpy()\n",
    "\n",
    "        X = self.scaler.fit_transform(X)\n",
    "\n",
    "        joblib.dump(self.scaler, self.config.scaler_ckpt)\n",
    "\n",
    "        X_train, X_test, Y_train, Y_test = train_test_split(X, Y, test_size=0.2, random_state=2)\n",
    "        \n",
    "        parameters=dict(self.params.svc)\n",
    "        model=SVC(**parameters)\n",
    "        model.fit(X_train, Y_train)\n",
    "        accuracy=model.score(X_test, Y_test)\n",
    "\n",
    "        logger.info(f\"Model trained with accuracy score of {accuracy*100:.2f}% on test data.\")\n",
    "\n",
    "        joblib.dump(model, self.config.model_ckpt)\n",
    "\n",
    "        logger.info(\"Model Checkpoint is created in artifacts\")"
   ]
  },
  {
   "cell_type": "code",
   "execution_count": 10,
   "id": "246bb5f7",
   "metadata": {},
   "outputs": [
    {
     "name": "stdout",
     "output_type": "stream",
     "text": [
      "[2025-08-11 16:41:50,194: INFO: common: yaml file : config\\config.yaml loaded successfully]\n",
      "[2025-08-11 16:41:50,209: INFO: common: yaml file : params.yaml loaded successfully]\n",
      "[2025-08-11 16:41:50,214: INFO: common: created directory at : artifacts]\n",
      "[2025-08-11 16:41:50,217: INFO: common: created directory at : artifacts/model_trainer]\n",
      "[2025-08-11 16:41:50,253: INFO: 1934501768: Model trained with accuracy score of 94.12% on test data.]\n",
      "[2025-08-11 16:41:50,258: INFO: 1934501768: Model Checkpoint is created in artifacts]\n"
     ]
    }
   ],
   "source": [
    "try:\n",
    "    config = ConfigurationManager()\n",
    "    model_trainer_config, params = config.get_model_trainer_config()\n",
    "    model_trainer = ModelTrainer(config=model_trainer_config, params=params)\n",
    "    model_trainer.train()\n",
    "except Exception as e:\n",
    "    raise e"
   ]
  }
 ],
 "metadata": {
  "kernelspec": {
   "display_name": "Python 3",
   "language": "python",
   "name": "python3"
  },
  "language_info": {
   "codemirror_mode": {
    "name": "ipython",
    "version": 3
   },
   "file_extension": ".py",
   "mimetype": "text/x-python",
   "name": "python",
   "nbconvert_exporter": "python",
   "pygments_lexer": "ipython3",
   "version": "3.12.11"
  }
 },
 "nbformat": 4,
 "nbformat_minor": 5
}
