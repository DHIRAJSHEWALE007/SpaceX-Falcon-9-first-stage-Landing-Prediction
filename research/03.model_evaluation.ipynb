{
 "cells": [
  {
   "cell_type": "code",
   "execution_count": 1,
   "id": "34bd0e08",
   "metadata": {},
   "outputs": [
    {
     "data": {
      "text/plain": [
       "'d:\\\\DHIRAJ\\\\Data_Science\\\\Jupyter_Workspace\\\\Projects\\\\SpaceX-Falcon-9-first-stage-Landing-Prediction'"
      ]
     },
     "execution_count": 1,
     "metadata": {},
     "output_type": "execute_result"
    }
   ],
   "source": [
    "import os\n",
    "\n",
    "os.chdir(\"../\")\n",
    "%pwd"
   ]
  },
  {
   "cell_type": "code",
   "execution_count": 2,
   "id": "874639d0",
   "metadata": {},
   "outputs": [],
   "source": [
    "from dataclasses import dataclass\n",
    "from pathlib import Path\n",
    "\n",
    "@dataclass(frozen=True)\n",
    "class ModelEvaluationConfig:\n",
    "    root_dir: Path\n",
    "    data_path: Path\n",
    "    evaluation_result_path: Path"
   ]
  },
  {
   "cell_type": "code",
   "execution_count": 3,
   "id": "ddce0b0a",
   "metadata": {},
   "outputs": [],
   "source": [
    "from SpaceXF9LandingPred.constants import *\n",
    "from SpaceXF9LandingPred.utils.common import read_yaml, create_directories"
   ]
  },
  {
   "cell_type": "code",
   "execution_count": null,
   "id": "13fb38e2",
   "metadata": {},
   "outputs": [],
   "source": [
    "class ConfigurationManager:\n",
    "    def __init__(self, \n",
    "                config_filepath=CONFIG_FILE_PATH, \n",
    "                params_filepath=PARAMS_FILE_PATH):\n",
    "        \n",
    "        self.config_file=read_yaml(config_filepath)\n",
    "        self.params_file=read_yaml(params_filepath)\n",
    "\n",
    "        create_directories([self.config_file.artifacts_root])\n",
    "    \n",
    "    def get_model_evaluation_config(self) -> ModelEvaluationConfig:\n",
    "        \n",
    "        config=self.config_file.model_evaluation\n",
    "        params=self.params_file.evaluation_params\n",
    "        create_directories([config.root_dir])\n",
    "\n",
    "        model_evaluation_config=ModelEvaluationConfig(\n",
    "            root_dir=config.root_dir,\n",
    "            data_path=config.data_path,\n",
    "            evaluation_result_path=config.evaluation_result_path\n",
    "        )\n",
    "\n",
    "        return model_evaluation_config, params\n",
    "    "
   ]
  },
  {
   "cell_type": "code",
   "execution_count": null,
   "id": "980c3103",
   "metadata": {},
   "outputs": [],
   "source": [
    "import pandas as pd\n",
    "import numpy as np\n",
    "\n",
    "from SpaceXF9LandingPred.logging import logger\n",
    "\n",
    "from sklearn.preprocessing import StandardScaler\n",
    "from sklearn.model_selection import train_test_split\n",
    "from sklearn.model_selection import GridSearchCV\n",
    "from sklearn.linear_model import LogisticRegression\n",
    "from sklearn.svm import SVC\n",
    "from sklearn.tree import DecisionTreeClassifier\n",
    "from sklearn.neighbors import KNeighborsClassifier\n",
    "\n",
    "\n",
    "class ModelEvaluation:\n",
    "    def __init__(self, config:ModelEvaluationConfig, params):\n",
    "        self.config=config\n",
    "        self.params=params\n",
    "        self.scaler=StandardScaler()\n",
    "\n",
    "    def evaluate_models(self):\n",
    "\n",
    "        data = pd.read_csv(self.config.data_path)\n",
    "        X = data.drop(columns=['Class'], axis=1)\n",
    "        Y = data['Class'].to_numpy()\n",
    "\n",
    "        X = self.scaler.fit_transform(X)\n",
    "\n",
    "        X_train, X_test, Y_train, Y_test = train_test_split(X, Y, test_size=0.3, random_state=2)\n",
    "\n",
    "        results={\"Models\":[],\n",
    "                 \"Accuracy Score\":[]}\n",
    "\n",
    "        models=[LogisticRegression(), SVC(), DecisionTreeClassifier(), KNeighborsClassifier()]\n",
    "        \n",
    "        for model in models:\n",
    "            mdl=model\n",
    "            model_name=mdl.__class__.__name__\n",
    "            parameters=dict(self.params[model_name.lower()])\n",
    "            cv=GridSearchCV(mdl, parameters, cv=10)\n",
    "            cv.fit(X_train, Y_train)\n",
    "            accuracy=cv.score(X_test, Y_test)\n",
    "            results[\"Models\"].append(model_name)\n",
    "            results[\"Accuracy Score\"].append(accuracy)\n",
    "\n",
    "        result_df=pd.DataFrame(results)\n",
    "\n",
    "        result_df.to_csv(self.config.evaluation_result_path, index=False)\n",
    "\n",
    "        logger.info(\"Model Evaluation results are saved in artifacts\")"
   ]
  },
  {
   "cell_type": "code",
   "execution_count": 12,
   "id": "8434eebc",
   "metadata": {},
   "outputs": [
    {
     "name": "stdout",
     "output_type": "stream",
     "text": [
      "[2025-08-11 15:37:45,690: INFO: common: yaml file : config\\config.yaml loaded successfully]\n",
      "[2025-08-11 15:37:45,730: INFO: common: yaml file : params.yaml loaded successfully]\n",
      "[2025-08-11 15:37:45,737: INFO: common: created directory at : artifacts]\n",
      "[2025-08-11 15:37:45,740: INFO: common: created directory at : artifacts/model_evaluation]\n",
      "[2025-08-11 15:37:52,625: INFO: 1859856227: Processed Data file has been created in artifacts]\n"
     ]
    }
   ],
   "source": [
    "try:\n",
    "    config = ConfigurationManager()\n",
    "    model_evaluation_config, params = config.get_model_evaluation_config()\n",
    "    model_evaluation = ModelEvaluation(config=model_evaluation_config, params=params)\n",
    "    model_evaluation.evaluate_models()\n",
    "except Exception as e:\n",
    "    raise e"
   ]
  }
 ],
 "metadata": {
  "kernelspec": {
   "display_name": "Python 3",
   "language": "python",
   "name": "python3"
  },
  "language_info": {
   "codemirror_mode": {
    "name": "ipython",
    "version": 3
   },
   "file_extension": ".py",
   "mimetype": "text/x-python",
   "name": "python",
   "nbconvert_exporter": "python",
   "pygments_lexer": "ipython3",
   "version": "3.12.11"
  }
 },
 "nbformat": 4,
 "nbformat_minor": 5
}
